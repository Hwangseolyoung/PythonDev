{
 "cells": [
  {
   "cell_type": "markdown",
   "metadata": {},
   "source": [
    "#### 점프투파이썬\n",
    "---\n",
    "04장 연습문제"
   ]
  },
  {
   "cell_type": "markdown",
   "metadata": {},
   "source": [
    "> Q1\n",
    "``` py\n",
    "    주어진 자연수가 홀수인지 짝수인지 판별해 주는 함수(is_odd)를 작성해 보자.\n",
    "```"
   ]
  },
  {
   "cell_type": "code",
   "execution_count": 1,
   "metadata": {},
   "outputs": [
    {
     "name": "stdout",
     "output_type": "stream",
     "text": [
      "17은(는) 홀수입니다.\n"
     ]
    }
   ],
   "source": [
    "# 함수 - 동사()\n",
    "# def print():\n",
    "#     # 실행문\n",
    "# 콜 할지 정하고 def~\n",
    "# 함수는 불자료형으로 리턴한다.\n",
    "\n",
    "# def is_odd(number):   # 1. 해더만 먼저 읽는다. / 4.정의한 메모리로 간다.\n",
    "#     if number % 2 == 1:  # 5. True 이므로 리턴\n",
    "#         return True\n",
    "#     else:\n",
    "#         return False\n",
    "\n",
    "# n =17                 # 2. 함수에 담는다.\n",
    "# is_odd(n)             # 3.함수를 콜한다. / 6. 콜 한쪽으로 리턴한다.\n",
    "\n",
    "def is_odd(number):   \n",
    "    if number % 2 == 1:  # 2로 나누었을 때 나머지가 1이면 홀수이다.\n",
    "        return True\n",
    "    else:\n",
    "        return False\n",
    "\n",
    "n =17                \n",
    "if is_odd(n):\n",
    "    print(f\"{n}은(는) 홀수입니다.\")          \n",
    "else:\n",
    "    print(f\"{n}은(는) 짝수입니다.\")         "
   ]
  },
  {
   "cell_type": "markdown",
   "metadata": {},
   "source": [
    "> Q2\n",
    "``` py\n",
    "    입력으로 들어오는 모든 수의 평균 값을 계산해 주는 함수를 작성해 보자. \n",
    "    (단 입력으로 들어오는 수의 개수는 정해져 있지 않다.)\n",
    "    ※ 평균 값을 구할 때 len 함수를 사용해 보자.\n",
    "```"
   ]
  },
  {
   "cell_type": "code",
   "execution_count": 2,
   "metadata": {},
   "outputs": [
    {
     "name": "stdout",
     "output_type": "stream",
     "text": [
      "평균 = 13.11\n"
     ]
    }
   ],
   "source": [
    "# 튜플일때는 ()를 쓰는데 ()가 없어도 데이터 타입이 튜플로 나옴\n",
    "# data_in = (10.3, 12.1, 30, 3.14, 10)\n",
    "\n",
    "# 입력 개수에 상관없이 사용하기 위해 *args를 사용\n",
    "def get_avg(args):\n",
    "    return sum(args) / len(args)\n",
    "\n",
    "data_in = 10.3, 12.1, 30, 3.14, 10\n",
    "\n",
    "print(\"평균 =\", round(get_avg(data_in), 2))"
   ]
  },
  {
   "cell_type": "markdown",
   "metadata": {},
   "source": [
    "> Q3\n",
    "``` py\n",
    "    다음은 두 개의 숫자를 입력받아 더하여 돌려주는 프로그램이다.\n",
    "\n",
    "    input1 = input(\"첫번째 숫자를 입력하세요:\")\n",
    "    input2 = input(\"두번째 숫자를 입력하세요:\")\n",
    "\n",
    "    total = input1 + input2\n",
    "    print(\"두 수의 합은 %s 입니다\" % total)\n",
    "    이 프로그램을 수행해 보자.\n",
    "\n",
    "    첫번째 숫자를 입력하세요:3\n",
    "    두번째 숫자를 입력하세요:6\n",
    "    두 수의 합은 36 입니다\n",
    "    3과 6을 입력했을 때 9가 아닌 36이라는 결괏값을 돌려주었다. \n",
    "    이 프로그램의 오류를 수정해 보자.\n",
    "```"
   ]
  },
  {
   "cell_type": "code",
   "execution_count": 8,
   "metadata": {},
   "outputs": [
    {
     "name": "stdout",
     "output_type": "stream",
     "text": [
      "두 수의 합은 9 입니다\n"
     ]
    }
   ],
   "source": [
    "input1 = input(\"첫번째 숫자를 입력하세요:\")\n",
    "input2 = input(\"두번째 숫자를 입력하세요:\")\n",
    "\n",
    "# 입력은 항상 문자열이므로 숫자로 바꾸어 주어야 한다.\n",
    "total = int(input1) + int(input2)\n",
    "print(\"두 수의 합은 %s 입니다\" % total)"
   ]
  },
  {
   "cell_type": "markdown",
   "metadata": {},
   "source": [
    "> Q4\n",
    "``` py\n",
    "    다음 중 출력 결과가 다른 것 한 개를 골라 보자.\n",
    "\n",
    "    1. print(\"you\" \"need\" \"python\")\n",
    "    2. print(\"you\"+\"need\"+\"python\")\n",
    "    3. print(\"you\", \"need\", \"python\")\n",
    "    4. print(\"\".join([\"you\", \"need\", \"python\"]))\n",
    "```"
   ]
  },
  {
   "cell_type": "code",
   "execution_count": 9,
   "metadata": {},
   "outputs": [
    {
     "name": "stdout",
     "output_type": "stream",
     "text": [
      "youneedpython\n",
      "youneedpython\n",
      "you need python\n",
      "you,need,python\n",
      "you:need:python\n",
      "you-need-python\n"
     ]
    }
   ],
   "source": [
    "# 데이터 처리함수 join, split, replace 가장 많이쓰니 공부하기\n",
    "\n",
    "print(\"you\" \"need\" \"python\")\n",
    "print(\"you\"+\"need\"+\"python\")\n",
    "print(\"you\", \"need\", \"python\")\n",
    "\n",
    "# 멤버함수 join\n",
    "print(\",\".join([\"you\", \"need\", \"python\"]))\n",
    "\n",
    "text = \":\".join([\"you\", \"need\", \"python\"])\n",
    "print(text)\n",
    "# text = \"you:need:python\" 문자열 상수(수정, 변경안됨)\n",
    "\n",
    "# replace는 \"you-need-python\" 새로운 문자열을 생성한다.\n",
    "new_text = text.replace(':', '-') \n",
    "print(new_text)\n",
    "\n",
    "# split은 리스트가 리턴된다.\n",
    "splist = new_text.split(':')\n",
    "print(splist)\n",
    "print(type(splist))\n",
    "splist[2]"
   ]
  },
  {
   "cell_type": "markdown",
   "metadata": {},
   "source": [
    "> Q5\n",
    "``` py\n",
    "    다음은 \"test.txt\"라는 파일에 \"Life is too short\" 문자열을 저장한 후 \n",
    "    다시 그 파일을 읽어서 출력하는 프로그램이다.\n",
    "\n",
    "    f1 = open(\"test.txt\", 'w')\n",
    "    f1.write(\"Life is too short\")\n",
    "\n",
    "    f2 = open(\"test.txt\", 'r')\n",
    "    print(f2.read())\n",
    "    이 프로그램은 우리가 예상한 \"Life is too short\"라는 문장을 출력하지 않는다. \n",
    "    우리가 예상한 값을 출력할 수 있도록 프로그램을 수정해 보자.\n",
    "```"
   ]
  },
  {
   "cell_type": "code",
   "execution_count": 11,
   "metadata": {},
   "outputs": [
    {
     "name": "stdout",
     "output_type": "stream",
     "text": [
      "Life is too short\n"
     ]
    }
   ],
   "source": [
    "# 메소드 open 연결통로 의미(쓰기, 읽기 가능)\n",
    "# open하면 close를 해주어야 한다. \n",
    "# close를 안해주면 메모리 누수가 발생된다.  \n",
    "\n",
    "try:\n",
    "    f1 = open(\"test.txt\", 'w')  # 텍스트파일이 있으면 덮어쓰기가 지정됨\n",
    "    f1.write(\"Life is too short\")\n",
    "except Exception as ex:\n",
    "    print(ex)\n",
    "finally:\n",
    "    f1.close()\n",
    "\n",
    "f2 = open(\"test.txt\", 'r')\n",
    "print(f2.read())\n",
    "f2.close()\n",
    "\n",
    "# 외부 장치에 연결된 것들은 예외사항이 발생될 수 있다.\n",
    "# 그러므로 예외처리를 해주어야 한다.\n",
    "# try:, except Exception as ex:, finally:"
   ]
  },
  {
   "cell_type": "markdown",
   "metadata": {},
   "source": [
    "> Q6\n",
    "``` py\n",
    "    사용자의 입력을 파일(test.txt)에 저장하는 프로그램을 작성해 보자. \n",
    "    (단 프로그램을 다시 실행하더라도 기존에 작성한 내용을 유지하고 새로 입력한 내용을 추가해야 한다.)\n",
    "```"
   ]
  },
  {
   "cell_type": "code",
   "execution_count": 15,
   "metadata": {},
   "outputs": [
    {
     "name": "stdout",
     "output_type": "stream",
     "text": [
      "Life is too short안녕하세요\n",
      "안녕하세요!\n",
      "누구세요?\n"
     ]
    }
   ],
   "source": [
    "dt = input(\"메세지를 입력해 주세요: \")\n",
    "\n",
    "# 기존 파일에 추가 메세지 저장\n",
    "with open(\"test.txt\", 'a', encoding='utf=8') as fw:\n",
    "    fw.write('\\n' + dt)\n",
    "\n",
    "with open(\"test.txt\",  'r', encoding='utf-8') as fr:\n",
    "    print(fr.read())"
   ]
  },
  {
   "cell_type": "markdown",
   "metadata": {},
   "source": [
    "> Q7\n",
    "``` py\n",
    "    다음과 같은 내용을 지닌 파일 test.txt가 있다. \n",
    "    이 파일의 내용 중 \"java\"라는 문자열을 \"python\"으로 바꾸어서 저장해 보자.\n",
    "\n",
    "    Life is too short\n",
    "    you need java\n",
    "    ※ replace 함수를 사용해 보자.\n",
    "```"
   ]
  },
  {
   "cell_type": "code",
   "execution_count": 16,
   "metadata": {},
   "outputs": [],
   "source": [
    "with open(\"test.txt\",  'rt', encoding='utf-8') as fr:\n",
    "    data = fr.read().replace(\"java\", \"python\")\n",
    "\n",
    "with open(\"test.txt\", 'wt', encoding='utf-8') as fw:\n",
    "    fw.write(data)"
   ]
  },
  {
   "cell_type": "markdown",
   "metadata": {},
   "source": [
    "#### 바이너리 파일 다루기\n",
    "---"
   ]
  },
  {
   "cell_type": "code",
   "execution_count": null,
   "metadata": {},
   "outputs": [],
   "source": [
    "# 외부 이미지를 가져오려면 모듈을 사용해야한다.\n",
    "\n",
    "from urllib import request\n",
    "\n",
    "target = request.urlopen(\"http://talkimg.imbc.com/TVianUpload/tvian/TViews/image/2021/06/15/0bf3fe59-804f-478c-9d4e-7329b5d230d2.jpg\")\n",
    "bin_file = target.read()\n",
    "print(bin_file)\n",
    "\n",
    "# 상대경로를 사용한다.\n",
    "with open(\"..\\\\source\\\\what.jpg\", 'wb') as f:\n",
    "    f.write(bin_file)\n",
    "\n",
    "# print(target)\n",
    "# print(type(target))"
   ]
  }
 ],
 "metadata": {
  "interpreter": {
   "hash": "4aa7a001941c8b447200068b1d71a3924cf04f02fe096f0aa27a7230a4a7f943"
  },
  "kernelspec": {
   "display_name": "Python 3.10.1 64-bit",
   "language": "python",
   "name": "python3"
  },
  "language_info": {
   "codemirror_mode": {
    "name": "ipython",
    "version": 3
   },
   "file_extension": ".py",
   "mimetype": "text/x-python",
   "name": "python",
   "nbconvert_exporter": "python",
   "pygments_lexer": "ipython3",
   "version": "3.10.1"
  },
  "orig_nbformat": 4
 },
 "nbformat": 4,
 "nbformat_minor": 2
}
