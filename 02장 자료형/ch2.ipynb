{
 "cells": [
  {
   "cell_type": "markdown",
   "metadata": {},
   "source": [
    "##### 점프 투 파이썬\n",
    "---\n",
    "02장 연습문제"
   ]
  },
  {
   "cell_type": "markdown",
   "metadata": {},
   "source": [
    "> Q1    \n",
    "``` py\n",
    "    홍길동 씨의 과목별 점수는 다음과 같다. 홍길동 씨의 평균 점수를 구해 보자.\n",
    "\n",
    "    과목\t점수\n",
    "    국어\t80\n",
    "    영어\t75\n",
    "    수학\t55   \n",
    "```"
   ]
  },
  {
   "cell_type": "code",
   "execution_count": 1,
   "metadata": {},
   "outputs": [
    {
     "name": "stdout",
     "output_type": "stream",
     "text": [
      "평균은  70.0 입니다.\n"
     ]
    }
   ],
   "source": [
    "국어 = 80\n",
    "영어 = 75\n",
    "수학 = 55\n",
    "# 왼쪽 = 오른쪽 / 오른쪽의 연산이 순서다 연산값을 왼쪽 변수에 할당해주는 것이다.\n",
    "총점 = 국어 + 영어 + 수학\n",
    "평균 = 총점 / 3\n",
    "\n",
    "print(\"평균은 \", 평균, \"입니다.\")"
   ]
  },
  {
   "cell_type": "code",
   "execution_count": 2,
   "metadata": {},
   "outputs": [
    {
     "name": "stdout",
     "output_type": "stream",
     "text": [
      "avg=  70.0\n"
     ]
    }
   ],
   "source": [
    "# 국어점수 , 영어, 수학\n",
    "kor = 80\n",
    "eng = 75\n",
    "math = 55\n",
    "\n",
    "#총점, 평균\n",
    "total = kor + eng + math\n",
    "avg = total / 3\n",
    "\n",
    "print(\"avg= \", avg)\n"
   ]
  },
  {
   "cell_type": "code",
   "execution_count": 8,
   "metadata": {},
   "outputs": [
    {
     "name": "stdout",
     "output_type": "stream",
     "text": [
      "<class 'list'>\n",
      "avg=  70.0\n"
     ]
    }
   ],
   "source": [
    "# 과목들을 목록화 할수있다. 자료형 list라고 한다.\n",
    "# 리스트 안에 항목들의 번호는 0번부터 시작한다. 0=80, 1=75, 2=55\n",
    "print(type([]))\n",
    "subjects = [80, 75, 55]\n",
    "total = subjects[0] + subjects[1] + subjects[2]\n",
    "avg = total / len(subjects)\n",
    "\n",
    "print(\"avg= \", avg)\n",
    "#클래스 내에서의 함수를 메소드라고한다.\n",
    "#subjects.__len__() __는 그 객체 내에서만 호출하는 함수 의미이다.(스페셜메소드)"
   ]
  },
  {
   "cell_type": "code",
   "execution_count": 11,
   "metadata": {},
   "outputs": [
    {
     "name": "stdout",
     "output_type": "stream",
     "text": [
      "avg=  70.0\n"
     ]
    }
   ],
   "source": [
    "# 객체가 궁금하면 help(객체) 검색할 수 있다.\n",
    "#help(subjects)\n",
    "\n",
    "subjects = [80, 75, 55] \n",
    "total = sum(subjects)\n",
    "avg = total / len(subjects)\n",
    "\n",
    "print(\"avg= \", avg)"
   ]
  },
  {
   "cell_type": "code",
   "execution_count": 17,
   "metadata": {},
   "outputs": [
    {
     "name": "stdout",
     "output_type": "stream",
     "text": [
      "avg=  70.0\n"
     ]
    }
   ],
   "source": [
    "#각각의 과목 점수를 알아보는려면 \"키\":값\n",
    "subjects = {\"국어\":80, \"영어\":75, \"수학\":55}\n",
    "total = subjects[\"국어\"] + subjects[\"영어\"] + subjects[\"수학\"]\n",
    "avg = total / len(subjects)\n",
    "\n",
    "print(\"avg= \", avg)"
   ]
  },
  {
   "cell_type": "code",
   "execution_count": 18,
   "metadata": {},
   "outputs": [
    {
     "name": "stdout",
     "output_type": "stream",
     "text": [
      "1\n"
     ]
    }
   ],
   "source": [
    "# 사용자로부터 이름과 성적을 입력받아 총점과 평균을 구해 출력하는\n",
    "# 프로그램을 작성하세요\n",
    "name = input(\"이름을 입력하세요: \")\n",
    "kor = input(\"국어 점수를 입력하세요: \")\n",
    "eng = input(\"영어 점수를 입력하세요: \")\n",
    "math = input(\"수학 점수를 입력하세요: \")\n",
    "\n",
    "total = int(kor) + int(eng) + int(math) # str -> int\n",
    "avg = total / 3\n",
    "\n",
    "print(name, \"님의 총점=\", total, \"평균=\", avg, \"입니다.\")\n",
    "print(\"%s님의 총점= %d, 평균= %f입니다.\" % (name, total, avg))\n",
    "print(\"{}님의 총점= {}, 평균= {}입니다.\" format(name, total, avg))\n",
    "print(f\"{name}님의 총점= {total}, 평균= {avg}입니다.\")\n",
    "\n",
    "# print(\"입력하신 이름은 \", name, \"입니다.\")\n",
    "# print(type(data))"
   ]
  },
  {
   "cell_type": "markdown",
   "metadata": {},
   "source": [
    "> Q2   \n",
    "``` py\n",
    "    자연수 13이 홀수인지 짝수인지 판별할 수 있는 방법에 대해 말해 보자.\n",
    "```"
   ]
  },
  {
   "cell_type": "code",
   "execution_count": 3,
   "metadata": {},
   "outputs": [
    {
     "name": "stdout",
     "output_type": "stream",
     "text": [
      "홀수입니다.\n"
     ]
    }
   ],
   "source": [
    "# 사용자로부터 정수를 입력받아 홀짝수를 판결하는 프로그램을 작성하세오.\n",
    "# 짝수냐 홀수냐????\n",
    "# \"02468\"\n",
    "# \"13579\"\n",
    "# 2n +1, 2n -1\n",
    "\n",
    "number = input(\"숫자를 입력하세요\")\n",
    "\n",
    "if number[-1] in \"02468\":\n",
    "    print(\"짝수입니다.\")\n",
    "else:\n",
    "    print(\"홀수입니다.\")\n",
    "\n",
    "if number == 1 or  number == 3 or number == 5 or number == 7:\n",
    "    print(\"홀수입니다.\")"
   ]
  },
  {
   "cell_type": "code",
   "execution_count": 4,
   "metadata": {},
   "outputs": [
    {
     "data": {
      "text/plain": [
       "True"
      ]
     },
     "execution_count": 4,
     "metadata": {},
     "output_type": "execute_result"
    }
   ],
   "source": [
    "0 > 3 or 100 < 150\n",
    "\n",
    "# and = all 참\n",
    "0 < 3 and True and True and True and True and True \n",
    "# or = any 참\n",
    "100 < 200 or False or False or False or False or False"
   ]
  },
  {
   "cell_type": "code",
   "execution_count": null,
   "metadata": {},
   "outputs": [],
   "source": [
    "# 2n +1, 2n -1\n",
    "number = int(input(\"자연수를 입력하세요: \"))\n",
    "\n",
    "if number % 2 == 0:\n",
    "    print(\"짝수입니다.\")\n",
    "else:\n",
    "    print(\"홀수입니다.\")"
   ]
  },
  {
   "cell_type": "markdown",
   "metadata": {},
   "source": [
    "> Q3   \n",
    "``` py   \n",
    "    홍길동 씨의 주민등록번호는 881120-1068234이다.  \n",
    "    홍길동 씨의 주민등록번호를 연월일(YYYYMMDD) 부분과 그 뒤의 숫자 부분으로 나누어 출력해 보자.\n",
    "```"
   ]
  },
  {
   "cell_type": "markdown",
   "metadata": {},
   "source": [
    "> Q4   \n",
    "``` py   \n",
    "    주민등록번호 뒷자리의 맨 첫 번째 숫자는 성별을 나타낸다.    \n",
    "    주민등록번호에서 성별을 나타내는 숫자를 출력해 보자.   \n",
    "```"
   ]
  },
  {
   "cell_type": "code",
   "execution_count": null,
   "metadata": {},
   "outputs": [],
   "source": [
    "# 주민번호(13자리)를 입력받아 출생년도와 나이 성별을 출력해주는 프로그램을 작성하세요.\n",
    "\n",
    "# \"840512184623\"\n",
    "# print(pin)\n",
    "\n",
    "# 사용자 입력받기\n",
    "pin = input(\"주민번호(13자리)를 입력: \")\n",
    "\n",
    "# 출생년도 추출\n",
    "yyyymmdd = pin[ :6]\n",
    "\n",
    "# 성별\n",
    "gender = pin[6]\n",
    "\n",
    "# 출생년도\n",
    "year = \"\"\n",
    "\n",
    "# 나이\n",
    "age = 0\n",
    "\n",
    "if gender in \"12\":\n",
    "    year = '19' + yyyymmdd[:1+1]\n",
    "elif gender in \"34\":\n",
    "    year = '20' + yyyymmdd[:1+1]\n",
    "\n",
    "age = 2022 - int(year) + 1\n",
    "\n",
    "print(\"당신의 출생년도 {}년\".format(year))\n",
    "print(\"당신의 나이는 {}세\".format(age))\n",
    "\n",
    "if int(gender) % 2 == 0:\n",
    "    print(\"여성입니다.\")\n",
    "else:\n",
    "    print(\"남성입니다.\")\n"
   ]
  },
  {
   "cell_type": "markdown",
   "metadata": {},
   "source": [
    "> Q5   \n",
    "``` py\n",
    "    다음과 같은 문자열 a:b:c:d가 있다.    \n",
    "    문자열의 replace 함수를 사용하여 a#b#c#d로 바꿔서 출력해 보자.   \n",
    "```"
   ]
  },
  {
   "cell_type": "code",
   "execution_count": 24,
   "metadata": {},
   "outputs": [
    {
     "name": "stdout",
     "output_type": "stream",
     "text": [
      "a:b:c:d\n",
      "a#b#c#d\n",
      "Python Programming\n",
      "abcd abcd abcd abcd\n",
      "a a, b b, c c, d d, "
     ]
    }
   ],
   "source": [
    "text = \"a:b:c:d\"\n",
    "print(text)\n",
    "print(\"a:b:c:d\".replace(\":\", \"#\"))\n",
    "\n",
    "#응용\n",
    "tt = \"12:03:21\"\n",
    "tt.replace(\":\", \"/\")\n",
    "\n",
    "#응용2\n",
    "te = \"Python Programming\"\n",
    "print(te.replace(\"Pythong\", \"Java\"))\n",
    "\n",
    "strs = \"abcd\"\n",
    "print(strs, end=\" \")\n",
    "print(strs, end=\" \")\n",
    "print(strs, end=\" \")\n",
    "print(strs)\n",
    "\n",
    "for c in strs:\n",
    "    print(c, end=\" \")"
   ]
  },
  {
   "cell_type": "markdown",
   "metadata": {},
   "source": [
    "> Q6.   \n",
    "``` py   \n",
    "    [1, 3, 5, 4, 2]라는 리스트를 [5, 4, 3, 2, 1]로 만들어보자.   \n",
    "```"
   ]
  },
  {
   "cell_type": "code",
   "execution_count": 27,
   "metadata": {},
   "outputs": [
    {
     "name": "stdout",
     "output_type": "stream",
     "text": [
      "[1, 2, 3, 4, 5]\n",
      "[5, 4, 3, 2, 1]\n"
     ]
    }
   ],
   "source": [
    "li = [1, 3, 5, 4, 2]\n",
    "# li.reverse()\n",
    "# print(li) =[2, 4, 5, 3, 1]\n",
    "li.sort()\n",
    "print(li)\n",
    "li.reverse()\n",
    "print(li)"
   ]
  },
  {
   "cell_type": "code",
   "execution_count": 29,
   "metadata": {},
   "outputs": [
    {
     "name": "stdout",
     "output_type": "stream",
     "text": [
      "[20, 30, 40, 50, 95, 100]\n",
      "[100, 95, 50, 40, 30, 20]\n"
     ]
    },
    {
     "data": {
      "text/plain": [
       "True"
      ]
     },
     "execution_count": 29,
     "metadata": {},
     "output_type": "execute_result"
    }
   ],
   "source": [
    "# 응용 최고점, 최저점 찾기\n",
    "li = [100, 30, 50, 40, 20, 95]\n",
    "# li.reverse()\n",
    "# print(li)\n",
    "li.sort()\n",
    "print(li)\n",
    "li.reverse()\n",
    "print(li)\n",
    "max(li) == li[0]"
   ]
  },
  {
   "cell_type": "markdown",
   "metadata": {},
   "source": [
    "> Q7.   \n",
    "``` py   \n",
    "    ['Life', 'is', 'too', 'short'] 라는 리스트를 Life is too short라는 문자열로 만들어 출력해 보자.   \n",
    "```"
   ]
  },
  {
   "cell_type": "code",
   "execution_count": 34,
   "metadata": {},
   "outputs": [
    {
     "name": "stdout",
     "output_type": "stream",
     "text": [
      "Life is too short\n"
     ]
    }
   ],
   "source": [
    "old_text = ['Life', 'is', 'too', 'short']\n",
    "new_text = old_text[0] + \" \" + old_text[1] + \" \" + old_text[2] + \" \" + old_text[3]\n",
    "print(new_text)"
   ]
  },
  {
   "cell_type": "code",
   "execution_count": 32,
   "metadata": {},
   "outputs": [
    {
     "name": "stdout",
     "output_type": "stream",
     "text": [
      "\n",
      "Life \n",
      "Life is \n",
      "Life is too \n",
      "Life is too short \n"
     ]
    }
   ],
   "source": [
    "old_text = ['Life', 'is', 'too', 'short']\n",
    "new_text = \"\"\n",
    "for s in old_text:\n",
    "    print(new_text)\n",
    "    new_text += s + \" \"\n",
    "print(new_text)"
   ]
  },
  {
   "cell_type": "code",
   "execution_count": 33,
   "metadata": {},
   "outputs": [
    {
     "name": "stdout",
     "output_type": "stream",
     "text": [
      "Life is too short\n"
     ]
    }
   ],
   "source": [
    "old_text = ['Life', 'is', 'too', 'short']\n",
    "new_text = \"{} {} {} {}\".format(old_text[0], old_text[1], old_text[2], old_text[3])\n",
    "print(new_text)"
   ]
  },
  {
   "cell_type": "markdown",
   "metadata": {},
   "source": [
    "> Q8.   \n",
    "``` py   \n",
    "    (1,2,3)이라는 튜플에 4라는 값을 추가하여 (1,2,3,4)처럼 만들어 출력해 보자.   \n",
    "```"
   ]
  },
  {
   "cell_type": "code",
   "execution_count": 48,
   "metadata": {},
   "outputs": [
    {
     "name": "stdout",
     "output_type": "stream",
     "text": [
      "li = [100, 2, 3]\n",
      "tu = (1, 2, 3)\n",
      "tu2=  (100, 2, 3)\n"
     ]
    }
   ],
   "source": [
    "# 리스트는 값을 변경할 수 있다.\n",
    "li = [1, 2, 3]\n",
    "tu = (1, 2, 3)\n",
    "\n",
    "li[0] = 100\n",
    "print(\"li =\", li)\n",
    "\n",
    "# 튜플은 고정된 값으로 변경하거나 추가 할 수 없다.\n",
    "# ex) 은행 비밀번호 등의 절대 변경할 수 없는 값들에 사용됨\n",
    "# tu[0] = 100\n",
    "print(\"tu =\", tu)\n",
    "type(tu)\n",
    "\n",
    "li2 = [1, 2, 3, 4]\n",
    "tu2 = tuple(li)\n",
    "print(\"tu2= \", tu2)\n"
   ]
  },
  {
   "cell_type": "code",
   "execution_count": 43,
   "metadata": {},
   "outputs": [
    {
     "data": {
      "text/plain": [
       "'y'"
      ]
     },
     "execution_count": 43,
     "metadata": {},
     "output_type": "execute_result"
    }
   ],
   "source": [
    "# 리스트 접근 방법은 인덱스 번호이다.\n",
    "\n",
    "object = ['a', 1, True, [100, ['x', 'y']]]\n",
    "object[3]\n",
    "object[3][1] # 배열안에 배열이 있는 2차원 배열이다.  = 200\n",
    "object[3][1][1] # 3차원 배열\n",
    "\n",
    "# 구구단은 2차원 배열로 많이 사용함"
   ]
  },
  {
   "cell_type": "markdown",
   "metadata": {},
   "source": [
    "> Q9.   \n",
    "``` py   \n",
    "    다음과 같은 딕셔너리 a가 있다. 다음 중 오류가 발생하는 경우는 어떤 경우인가?   \n",
    "    그리고 그 이유를 설명해 보자.   \n",
    "    >>> a = dict()   \n",
    "    >>> a   \n",
    "    {}   \n",
    "\n",
    "    다음 중 오류가 발생하는 경우를 고르고, 그 이유를 설명해 보자.   \n",
    "\n",
    "    1. a['name'] = 'python'   \n",
    "    2. a[('a',)] = 'python'   \n",
    "    3. a[[1]] = 'python'   \n",
    "    4. a[250] = 'python'   \n",
    "```"
   ]
  },
  {
   "cell_type": "code",
   "execution_count": 54,
   "metadata": {},
   "outputs": [
    {
     "name": "stdout",
     "output_type": "stream",
     "text": [
      "{'name': 'Python'}\n",
      "{'name': 'Python', ('a',): 'Python'}\n",
      "{'name': 'Python', ('a',): 'Python', 205: 'Python'}\n"
     ]
    }
   ],
   "source": [
    "a = dict()\n",
    "a['name'] = 'Python' # 키, 값 모두 문자열/ a['키'] = '값'\n",
    "print(a) # {'name': 'Python'}\n",
    "a[('a',)] = 'Python' \n",
    "print(a) # {'name': 'Python', ('a',): 'Python'}\n",
    "# a[[1]] = 'Python' / 리스트는 키값이 변경 가능함으로, 키가 중복됨으로 오류발생\n",
    "a[205] = 'Python'\n",
    "print(a) # {'name': 'Python', ('a',): 'Python', 205: 'Python'}\n"
   ]
  },
  {
   "cell_type": "code",
   "execution_count": null,
   "metadata": {},
   "outputs": [],
   "source": [
    "#문자열도 상수이므로 변경이 불가능하다.\n",
    "\n",
    "text = \"Python\"\n",
    "text[0] = 'J'\n",
    "print(text)"
   ]
  },
  {
   "cell_type": "markdown",
   "metadata": {},
   "source": [
    "> Q10   \n",
    "``` py   \n",
    "    딕셔너리 a에서 'B'에 해당되는 값을 추출해 보자.   \n",
    "\n",
    "    >>> a = {'A':90, 'B':80, 'C':70}   \n",
    "    ※ 딕셔너리의 pop 함수를 사용해 보자.   \n",
    "```"
   ]
  },
  {
   "cell_type": "code",
   "execution_count": 63,
   "metadata": {},
   "outputs": [
    {
     "ename": "NameError",
     "evalue": "name 'pirnt' is not defined",
     "output_type": "error",
     "traceback": [
      "\u001b[1;31m---------------------------------------------------------------------------\u001b[0m",
      "\u001b[1;31mNameError\u001b[0m                                 Traceback (most recent call last)",
      "Input \u001b[1;32mIn [63]\u001b[0m, in \u001b[0;36m<module>\u001b[1;34m\u001b[0m\n\u001b[0;32m     10\u001b[0m a \u001b[38;5;241m=\u001b[39m {\u001b[38;5;124m'\u001b[39m\u001b[38;5;124mA\u001b[39m\u001b[38;5;124m'\u001b[39m:\u001b[38;5;241m90\u001b[39m, \u001b[38;5;124m'\u001b[39m\u001b[38;5;124mB\u001b[39m\u001b[38;5;124m'\u001b[39m:\u001b[38;5;241m80\u001b[39m, \u001b[38;5;124m'\u001b[39m\u001b[38;5;124mC\u001b[39m\u001b[38;5;124m'\u001b[39m:\u001b[38;5;241m70\u001b[39m}\n\u001b[0;32m     11\u001b[0m a[\u001b[38;5;124m'\u001b[39m\u001b[38;5;124mB\u001b[39m\u001b[38;5;124m'\u001b[39m]\n\u001b[1;32m---> 12\u001b[0m \u001b[43mpirnt\u001b[49m(a\u001b[38;5;241m.\u001b[39mpop(\u001b[38;5;124m'\u001b[39m\u001b[38;5;124mB\u001b[39m\u001b[38;5;124m'\u001b[39m))\n",
      "\u001b[1;31mNameError\u001b[0m: name 'pirnt' is not defined"
     ]
    }
   ],
   "source": [
    "# pop 함수 사용 / 스택 메모리 구조 /동전쌓기 벗어나는 순간 다 비워진다.\n",
    "# os는 총괄하는 장치이다 / 램은 실행하면 os가 쓸수있는 메모리를 할당해준다.\n",
    "# 램은 주기억장치이다. 코딩하고 실행하면 램에 올라간다는 말이다. ex)게임실행시 패치\n",
    "# 스택 메모리는 책을 쌓는것과 동일하다. 꺼낼때는 위에서부터 꺼내는 것이다.\n",
    "# 맨 위에것부터 차례대로 꺼내줘야 맨 마지막 것이 꺼내진다.\n",
    "\n",
    "# 힙메모리는 클래스이다. 참조를 하는 카운트를 기억하고 있다.\n",
    "\n",
    "# pop 안에는 키를 넣어줘야한다. / 그 키를 꺼내서 버린다\n",
    "a = {'A':90, 'B':80, 'C':70}\n",
    "a['B']\n",
    "pirnt(a.pop('B'))\n",
    "# print(a) # {'A': 90, 'B': 80} / C가 삭제된 것을 확인할 수 있다."
   ]
  },
  {
   "cell_type": "markdown",
   "metadata": {},
   "source": [
    "> Q11   \n",
    "``` py   \n",
    "    a 리스트에서 중복 숫자를 제거해 보자.   \n",
    "\n",
    "    >>> a = [1, 1, 1, 2, 2, 3, 3, 3, 4, 4, 5]    \n",
    "    ※ 집합 자료형의 요솟값이 중복될 수 없다는 특징을 사용해 보자.    \n",
    "```"
   ]
  },
  {
   "cell_type": "code",
   "execution_count": 64,
   "metadata": {},
   "outputs": [
    {
     "name": "stdout",
     "output_type": "stream",
     "text": [
      "{1, 2, 3}\n"
     ]
    }
   ],
   "source": [
    "# set은 중복이 제거되는 구조이다. ex)로또 프로그램만들때 사용됨\n",
    "# 자료형 = [] 리스트(수정가능함) {} 딕셔너리(읽기만) () 튜플(키벨류)\n",
    "\n",
    "[1, 2, 3]\n",
    "(1, 2, 3)\n",
    "{'a':1, 'b':2, 'c':3}\n",
    "{1, 2, 3} \n",
    "\n",
    "se = {1, 2, 3, 3, 1, 2}\n",
    "print(se)"
   ]
  },
  {
   "cell_type": "code",
   "execution_count": 65,
   "metadata": {},
   "outputs": [
    {
     "name": "stdout",
     "output_type": "stream",
     "text": [
      "[1, 1, 1, 2, 2, 3, 3, 3, 4, 4, 5]\n",
      "{1, 2, 3, 4, 5}\n"
     ]
    }
   ],
   "source": [
    "# 문제풀이\n",
    "a = [1, 1, 1, 2, 2, 3, 3, 3, 4, 4, 5]    \n",
    "a2 = set(a) #형변환시켜줌\n",
    "print(a)\n",
    "print(a2)"
   ]
  },
  {
   "cell_type": "markdown",
   "metadata": {},
   "source": [
    "> Q12   \n",
    "``` py   \n",
    "    파이썬은 다음처럼 동일한 값에 여러 개의 변수를 선언할 수 있다.    \n",
    "    다음과 같이 a, b 변수를 선언한 후 a의 두 번째 요솟값을 변경하면 b 값은 어떻게 될까?    \n",
    "    그리고 이런 결과가 오는 이유에 대해 설명해 보자.   \n",
    "\n",
    "    >>> a = b = [1, 2, 3]   \n",
    "    >>> a[1] = 4   \n",
    "    >>> print(b)   \n",
    "```"
   ]
  },
  {
   "cell_type": "code",
   "execution_count": 67,
   "metadata": {},
   "outputs": [
    {
     "name": "stdout",
     "output_type": "stream",
     "text": [
      "2522369986560\n",
      "2522369986560\n",
      "[1, 4, 3]\n",
      "[1, 4, 3]\n"
     ]
    }
   ],
   "source": [
    "# 대입 연산자 연산순위 -> 오른쪽부터 계산하여 왼쪽에 할당된다.\n",
    "# 클래스의 최상위는 오브젝트 클래스이다.\n",
    "# id 함수 객체를 식별하기 위한 함수이다.(자바에선 해시함수)\n",
    "# 식별하기 위해선 고유 숫자가 있어야한다.\n",
    "# 겹치지않는 고유식별 = 해시코드 = 상수같은 값 = 해당 객체의 메모리 구조 값\n",
    "a = b = [1, 2, 3]   \n",
    "\n",
    "print(id(a))  # 같은 객체임으로 id가 동일하다\n",
    "print(id(b))\n",
    "a[1] = 4\n",
    "print(a)\n",
    "print(b)"
   ]
  },
  {
   "cell_type": "code",
   "execution_count": 68,
   "metadata": {},
   "outputs": [
    {
     "name": "stdout",
     "output_type": "stream",
     "text": [
      "2522369913664\n",
      "2522369912320\n",
      "[1, 4, 3]\n",
      "[1, 2, 3]\n"
     ]
    }
   ],
   "source": [
    "#a = b = [1, 2, 3]\n",
    "   \n",
    "a = [1, 2, 3]   \n",
    "b = [1, 2, 3]   \n",
    "\n",
    "print(id(a))  # 다른 객체임으로 id가 다르다.\n",
    "print(id(b))\n",
    "a[1] = 4\n",
    "print(a)\n",
    "print(b)"
   ]
  },
  {
   "cell_type": "code",
   "execution_count": null,
   "metadata": {},
   "outputs": [],
   "source": [
    "# 자료형\n",
    "# [] 넣고빼고 변경할 수 있음\n",
    "# () 변경안됨 상수구조\n",
    "# {} 키벨류구조\n",
    "# {1, } 변경안됨\n",
    "\n",
    "# 파이썬은 간결하고 심플하여 코딩이 짧고 직관적임"
   ]
  }
 ],
 "metadata": {
  "interpreter": {
   "hash": "4aa7a001941c8b447200068b1d71a3924cf04f02fe096f0aa27a7230a4a7f943"
  },
  "kernelspec": {
   "display_name": "Python 3.10.1 64-bit",
   "language": "python",
   "name": "python3"
  },
  "language_info": {
   "codemirror_mode": {
    "name": "ipython",
    "version": 3
   },
   "file_extension": ".py",
   "mimetype": "text/x-python",
   "name": "python",
   "nbconvert_exporter": "python",
   "pygments_lexer": "ipython3",
   "version": "3.10.1"
  },
  "orig_nbformat": 4
 },
 "nbformat": 4,
 "nbformat_minor": 2
}
