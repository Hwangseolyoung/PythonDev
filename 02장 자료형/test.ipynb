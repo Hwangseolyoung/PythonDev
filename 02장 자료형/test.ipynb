{
 "cells": [
  {
   "cell_type": "code",
   "execution_count": 24,
   "metadata": {},
   "outputs": [
    {
     "name": "stdout",
     "output_type": "stream",
     "text": [
      "<class 'int'>\n",
      "65\n",
      "66\n",
      "1\n",
      "31400000000.0\n"
     ]
    }
   ],
   "source": [
    "i = 65 # 65를 i에 담는다가 아니라 \n",
    "# 65라는 객체가 생성되고 i라는 변수가 그 객체의 주소를 참조하는 것이다.\n",
    "\n",
    "print(type(i))\n",
    "i.bit_length()\n",
    "bin(i)\n",
    "\n",
    "print(ord('A')) # 인코딩 : 문자열을 숫자로\n",
    "print(ord('B'))\n",
    "\n",
    "chr(65)\n",
    "chr(65+25) # 디코딩 : 숫자를 문자열로\n",
    "\n",
    "a = 0\n",
    "b = 1\n",
    "c = a + b\n",
    "print(c)\n",
    "\n",
    "bin(ord('+'))\n",
    "\n",
    "print(3.14E10) #E=10이다, E10 = 10*10\n",
    "print(3.14*10**2) \n",
    "print(3.14E-2)"
   ]
  },
  {
   "cell_type": "markdown",
   "metadata": {},
   "source": [
    "파이썬은 모든 것이 클래스형이다.\n",
    "클래스는 복합 자료형이다.\n",
    "실수형은 부동소수점인데 거기서 부동은 떠있다는 의미이다.\n",
    "실수는 비트배열로 계산하는데 한계가 있다.\n",
    "소숫점은 무한대이다 정확히 1을 만들수없다.\n",
    "실수를 컴퓨터가 표현하기 힘들다.\n",
    "산술연산을하면 엉뚱한 연산을 하는경우가 많다.\n",
    "그래서 유효자릿수가 중요하다 플롯은 소숫점 7자리까지 유효하다. \n",
    "더블은 소숫점에서 15자리까지 유효하다."
   ]
  },
  {
   "cell_type": "code",
   "execution_count": 3,
   "metadata": {},
   "outputs": [
    {
     "name": "stdout",
     "output_type": "stream",
     "text": [
      "C:\\PythonDev\\name\n"
     ]
    }
   ],
   "source": [
    "# 외부설정파일을 로딩해서 변수에 대입할때 파일경로를 많이쓴다.\n",
    "# C:\\PythonDev\\name -> \\name -> \\n 이스케이프문자로 개행해서 오류가 발생된다.\n",
    "# path = \"C:\\PythonDev\\name\"\n",
    "\n",
    "path = \"C:\\\\PythonDev\\\\name\"\n",
    "print(path)\n",
    "\n",
    "# /+문자는 이스케이프가 아니므로 슬래시로 표현하는 방법도 있다.\n",
    "# path = \"C:/PythonDev/name\" \n",
    "\n"
   ]
  },
  {
   "cell_type": "code",
   "execution_count": 4,
   "metadata": {},
   "outputs": [
    {
     "data": {
      "text/plain": [
       "'문자열문자열문자열'"
      ]
     },
     "execution_count": 4,
     "metadata": {},
     "output_type": "execute_result"
    }
   ],
   "source": [
    "\"❤\" * 3\n",
    "ord('A')\n",
    "ord('A')\n",
    "ord('❤')\n",
    "\n",
    "che(10084)"
   ]
  },
  {
   "cell_type": "code",
   "execution_count": 13,
   "metadata": {},
   "outputs": [
    {
     "data": {
      "text/plain": [
       "5"
      ]
     },
     "execution_count": 13,
     "metadata": {},
     "output_type": "execute_result"
    }
   ],
   "source": [
    "#  인덱싱과 슬라이싱\n",
    "# 맨 앞부터 갈때는 0부터 시작한다.\n",
    "# 맨 뒤에서 부터 숫자를 볼때는 - 넣어준다.\n",
    "#       0123456789012345678901234567890123\n",
    "text = \"Life is too short, You need Python\"\n",
    "\n",
    "text[19]\n",
    "text[-1] == text[33] \n",
    "\n",
    "# 단어 자체를 뽑고싶을 때\n",
    "# text[시작인덱스 : 끝인덱스] =  시작 <=    < 끝(+1)\n",
    "# text[0 : 3+1] = 'Life'\n",
    "text[0 : 3+1]\n",
    "text[28 : ] #28 끝까지\n",
    "text[ : 4] # 처음부터 4까지\n",
    "text[ : ] # 처음부터 끝까지\n",
    "text\n",
    "\n",
    "# 리스트\n",
    "li = [1, 2, 3, 4, 5]\n",
    "li[ : 2+1]\n",
    "li[-1]"
   ]
  },
  {
   "cell_type": "code",
   "execution_count": 18,
   "metadata": {},
   "outputs": [
    {
     "name": "stdout",
     "output_type": "stream",
     "text": [
      "영희님의 국어 점수는 90점입니다.\n",
      "철수님의 국어 점수는 80점입니다.\n",
      "길동님의 국어 점수는 70점입니다.\n",
      "민수님의 국어 점수는 60점입니다.\n",
      "존님의 국어 점수는 50점입니다.\n"
     ]
    }
   ],
   "source": [
    "# 문자열 포매팅\n",
    "# 변수를 문자열에 포함하여 찍어보기(형식 지정자)\n",
    "\n",
    "#name = \"영희\"\n",
    "#subject = \"국어\"\n",
    "# score = 90\n",
    "\n",
    "#text = \"%s님의 %s 점수는 %d점입니다.\" % (name, subject, score)\n",
    "#print(text) = 영희님의 국어 점수는 90점입니다.\n",
    "\n",
    "name = [\"영희\", \"철수\", \"길동\", \"민수\", \"존\"]\n",
    "subject = \"국어\"\n",
    "score = [90, 80, 70, 60, 50]\n",
    "\n",
    "# 파이썬에서 포문은 : 과 들여쓰기를 확인해야 한다.\n",
    "#               0, 1, 2(rang 범위객체)\n",
    "for n in range(len(name)):\n",
    "    text = \"%s님의 %s 점수는 %d점입니다.\" % (name[n], subject, score[n])\n",
    "    print(text)\n"
   ]
  },
  {
   "cell_type": "code",
   "execution_count": 19,
   "metadata": {},
   "outputs": [
    {
     "name": "stdout",
     "output_type": "stream",
     "text": [
      "영희님의 수학 점수는 95점입니다.\n"
     ]
    }
   ],
   "source": [
    "# \"문자열\" .format()\n",
    "name = \"영희\"\n",
    "sub = \"수학\"\n",
    "score = 95\n",
    "\n",
    "text = \"{}님의 {} 점수는 {}점입니다.\".format(name, sub,score)\n",
    "print(text)\n",
    "\n",
    "# 인덱스 번호를 지정할 수 있다.\n",
    "# text = \"{0}님의 {1} 점수는 {2}점입니다.\".format(name, sub,score)"
   ]
  },
  {
   "cell_type": "code",
   "execution_count": 20,
   "metadata": {},
   "outputs": [
    {
     "name": "stdout",
     "output_type": "stream",
     "text": [
      "영희님의 수학 점수는 95점입니다.\n"
     ]
    }
   ],
   "source": [
    "#문자열을 변수랑 섞어서 만드는 방법임\n",
    "# f를 붙이고 {함수}를 바로 넣어주면된다. 파이썬 3.7ver 됨\n",
    "\n",
    "name = \"영희\"\n",
    "sub = \"수학\"\n",
    "score = 95\n",
    "\n",
    "text = f\"{name}님의 {sub} 점수는 {score}점입니다.\"\n",
    "print(text)"
   ]
  },
  {
   "cell_type": "code",
   "execution_count": null,
   "metadata": {},
   "outputs": [],
   "source": []
  }
 ],
 "metadata": {
  "interpreter": {
   "hash": "8931d08a56ba8ec5bd4013e6d6c9066a90d099ecd0b9731835efa4c48cf46a24"
  },
  "kernelspec": {
   "display_name": "Python 3.10.1 64-bit",
   "language": "python",
   "name": "python3"
  },
  "language_info": {
   "codemirror_mode": {
    "name": "ipython",
    "version": 3
   },
   "file_extension": ".py",
   "mimetype": "text/x-python",
   "name": "python",
   "nbconvert_exporter": "python",
   "pygments_lexer": "ipython3",
   "version": "3.10.1"
  },
  "orig_nbformat": 4
 },
 "nbformat": 4,
 "nbformat_minor": 2
}
