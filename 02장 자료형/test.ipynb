{
 "cells": [
  {
   "cell_type": "code",
   "execution_count": 24,
   "metadata": {},
   "outputs": [
    {
     "name": "stdout",
     "output_type": "stream",
     "text": [
      "<class 'int'>\n",
      "65\n",
      "66\n",
      "1\n",
      "31400000000.0\n"
     ]
    }
   ],
   "source": [
    "i = 65 # 65를 i에 담는다가 아니라 \n",
    "# 65라는 객체가 생성되고 i라는 변수가 그 객체의 주소를 참조하는 것이다.\n",
    "\n",
    "print(type(i))\n",
    "i.bit_length()\n",
    "bin(i)\n",
    "\n",
    "print(ord('A')) # 인코딩 : 문자열을 숫자로\n",
    "print(ord('B'))\n",
    "\n",
    "chr(65)\n",
    "chr(65+25) # 디코딩 : 숫자를 문자열로\n",
    "\n",
    "a = 0\n",
    "b = 1\n",
    "c = a + b\n",
    "print(c)\n",
    "\n",
    "bin(ord('+'))\n",
    "\n",
    "print(3.14E10) #E=10이다, E10 = 10*10\n",
    "print(3.14*10**2) \n",
    "print(3.14E-2)"
   ]
  },
  {
   "cell_type": "markdown",
   "metadata": {},
   "source": [
    "파이썬은 모든 것이 클래스형이다.\n",
    "클래스는 복합 자료형이다.\n",
    "실수형은 부동소수점인데 거기서 부동은 떠있다는 의미이다.\n",
    "실수는 비트배열로 계산하는데 한계가 있다.\n",
    "소숫점은 무한대이다 정확히 1을 만들수없다.\n",
    "실수를 컴퓨터가 표현하기 힘들다.\n",
    "산술연산을하면 엉뚱한 연산을 하는경우가 많다.\n",
    "그래서 유효자릿수가 중요하다 플롯은 소숫점 7자리까지 유효하다. \n",
    "더블은 소숫점에서 15자리까지 유효하다."
   ]
  }
 ],
 "metadata": {
  "interpreter": {
   "hash": "8931d08a56ba8ec5bd4013e6d6c9066a90d099ecd0b9731835efa4c48cf46a24"
  },
  "kernelspec": {
   "display_name": "Python 3.10.1 64-bit",
   "language": "python",
   "name": "python3"
  },
  "language_info": {
   "codemirror_mode": {
    "name": "ipython",
    "version": 3
   },
   "file_extension": ".py",
   "mimetype": "text/x-python",
   "name": "python",
   "nbconvert_exporter": "python",
   "pygments_lexer": "ipython3",
   "version": "3.10.1"
  },
  "orig_nbformat": 4
 },
 "nbformat": 4,
 "nbformat_minor": 2
}
