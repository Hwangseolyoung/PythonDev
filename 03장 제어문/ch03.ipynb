{
 "cells": [
  {
   "cell_type": "markdown",
   "metadata": {},
   "source": [
    "#### 점프투파이썬\n",
    "---\n",
    "03장 연습문제"
   ]
  },
  {
   "cell_type": "code",
   "execution_count": null,
   "metadata": {},
   "outputs": [],
   "source": [
    "# 제어문\n",
    "# if, else, if else, 반복문 - for, while\n",
    "# 반복문 안에서 비지니스 로직을 많이 짠다."
   ]
  },
  {
   "cell_type": "markdown",
   "metadata": {},
   "source": [
    "> Q1\n",
    "``` py\n",
    "    다음 코드의 결과값은 무엇일까?\n",
    "\n",
    "    a = \"Life is too short, you need python\"\n",
    "\n",
    "    if \"wife\" in a: print(\"wife\")\n",
    "    elif \"python\" in a and \"you\" not in a: print(\"python\")\n",
    "    elif \"shirt\" not in a: print(\"shirt\")\n",
    "    elif \"need\" in a: print(\"need\")\n",
    "    else: print(\"none\")\n",
    "```"
   ]
  },
  {
   "cell_type": "markdown",
   "metadata": {},
   "source": [
    "https://pythontutor.com/\n",
    "파이썬 코딩 진행과정을 확인해주는 사이트"
   ]
  },
  {
   "cell_type": "code",
   "execution_count": 3,
   "metadata": {},
   "outputs": [
    {
     "name": "stdout",
     "output_type": "stream",
     "text": [
      "True\n"
     ]
    }
   ],
   "source": [
    "# 파이썬은 들여쓰기로 중괄호를 구분한다.\n",
    "# 중괄호 단축키 시프트+텝\n",
    "\n",
    "a = \"Life is too short, you need python\"\n",
    "# print(\"wife\" in a) = False\n",
    "# print(\"Life\" in a) = True\n",
    "\n",
    "# if만 썼을때와 elif로 썼을때 코딩 실행 흐름을 알아야한다.\n",
    "# elif는 하나라도 True가 나오면 끝난다\n",
    "\n",
    "if \"wife\" in a: \n",
    "    print(\"wife\")\n",
    "elif \"python\" in a and \"you\" not in a: \n",
    "    print(\"python\")\n",
    "elif \"shirt\" not in a: \n",
    "    print(\"shirt\")\n",
    "elif \"need\" in a: \n",
    "    print(\"need\")\n",
    "else: \n",
    "    print(\"none\")\n",
    "\n",
    "# 결과 값 shirt"
   ]
  },
  {
   "cell_type": "markdown",
   "metadata": {},
   "source": [
    "> Q2\n",
    "``` py\n",
    "    while문을 사용해 1부터 1000까지의 자연수 중 3의 배수의 합을 구해 보자.\n",
    "```"
   ]
  },
  {
   "cell_type": "code",
   "execution_count": 7,
   "metadata": {},
   "outputs": [
    {
     "name": "stdout",
     "output_type": "stream",
     "text": [
      "1~1000까지의 3의 배수의 합은 166833 입니다.\n"
     ]
    }
   ],
   "source": [
    "# 나머지 연산자를 이용하면 된다.\n",
    "# 3의 배수는 3으로 나누면 값이 0이면 3의 배수\n",
    "# [1, 2, 3......1000]\n",
    "# range는 범위를 나타내는 객체이다. / 시작과 끝값 + 1만 적어주면\n",
    "li = list(range(1, 1000 + 1))\n",
    "\n",
    "sum = 0\n",
    "for i in li:\n",
    "    if i % 3 == 0:\n",
    "        sum += i\n",
    "print(\"1~1000까지의 3의 배수의 합은 {} 입니다.\".format(sum))\n",
    "\n"
   ]
  },
  {
   "cell_type": "code",
   "execution_count": null,
   "metadata": {},
   "outputs": [],
   "source": [
    "# 리스트를 만들어 주고 for문으로도 만들 수 있다.\n",
    "# 리스트 내포(List comprehention) : [i for~ if~]\n",
    "# li = [i for i in range(1, 1000 + 1) if i % 3 == 0]\n",
    "# print(\"1~1000까지의 3의 배수의 합은 {sum(li)} 입니다.\".format(sum(li)))"
   ]
  },
  {
   "cell_type": "code",
   "execution_count": 11,
   "metadata": {},
   "outputs": [
    {
     "name": "stdout",
     "output_type": "stream",
     "text": [
      "[1, 3, 5, 7, 9]\n",
      "[100, 300, 500, 700, 900]\n"
     ]
    }
   ],
   "source": [
    "# 1~10 자연수중 홀수 구분하기\n",
    "print([i for i in range(1, 10+1) if i % 2 == 1]) \n",
    "print([i*100 for i in range(1, 10+1) if i % 2 == 1]) "
   ]
  },
  {
   "cell_type": "markdown",
   "metadata": {},
   "source": [
    "> Q3\n",
    "``` py\n",
    "    while문을 사용하여 다음과 같이 별(*)을 표시하는 프로그램을 작성해 보자.\n",
    "\n",
    "    *\n",
    "    **\n",
    "    ***\n",
    "    ****\n",
    "    *****\n",
    "```"
   ]
  },
  {
   "cell_type": "code",
   "execution_count": 3,
   "metadata": {},
   "outputs": [
    {
     "name": "stdout",
     "output_type": "stream",
     "text": [
      "*\n",
      "**\n",
      "***\n",
      "****\n",
      "*****\n"
     ]
    }
   ],
   "source": [
    "i = 0\n",
    "while i < 5:\n",
    "    print('*' * (i+1))\n",
    "    i += 1"
   ]
  },
  {
   "cell_type": "code",
   "execution_count": 13,
   "metadata": {},
   "outputs": [
    {
     "name": "stdout",
     "output_type": "stream",
     "text": [
      "1\n",
      "2\n",
      "3\n",
      "4\n",
      "5\n",
      "6\n",
      "7\n",
      "8\n",
      "9\n",
      "10\n"
     ]
    }
   ],
   "source": [
    "# 반복문 for, while \n",
    "\n",
    "# for-횟수 중심의 반복문 \n",
    "# i = 0\n",
    "# while i < 10:\n",
    "#     print(i + 1)\n",
    "#     i += 1\n",
    "\n",
    "# while 조건에 대한 반복문\n",
    "# # for i in 반복객체\n",
    "# for i in range(1, 10 + 1):\n",
    "#     print(i)"
   ]
  },
  {
   "cell_type": "markdown",
   "metadata": {},
   "source": [
    "> Q4\n",
    "``` py\n",
    "    for문을 사용해 1부터 100까지의 숫자를 출력해 보자.\n",
    "```"
   ]
  },
  {
   "cell_type": "code",
   "execution_count": 2,
   "metadata": {},
   "outputs": [
    {
     "name": "stdout",
     "output_type": "stream",
     "text": [
      "010-1234-5678\n"
     ]
    }
   ],
   "source": [
    "# for i in range(1, 100 + 1):\n",
    "#     print(i, end=', ')\n",
    "\n",
    "print(\"010\", \"1234\", \"5678\", sep='-')"
   ]
  },
  {
   "cell_type": "markdown",
   "metadata": {},
   "source": [
    "> Q5\n",
    "``` py\n",
    "    A 학급에 총 10명의 학생이 있다. 이 학생들의 중간고사 점수는 다음과 같다.\n",
    "    [70, 60, 55, 75, 95, 90, 80, 80, 85, 100]\n",
    "    for문을 사용하여 A 학급의 평균 점수를 구해 보자.\n",
    "```"
   ]
  },
  {
   "cell_type": "code",
   "execution_count": 1,
   "metadata": {},
   "outputs": [
    {
     "name": "stdout",
     "output_type": "stream",
     "text": [
      "70\n",
      "60\n",
      "55\n",
      "75\n",
      "95\n",
      "90\n",
      "80\n",
      "80\n",
      "85\n",
      "100\n"
     ]
    }
   ],
   "source": [
    "scores = [70, 60, 55, 75, 95, 90, 80, 80, 85, 100]\n",
    "# avg = sum(scores) / len(scores)\n",
    "# print(avg)\n",
    "\n",
    "#        range(100): 0~99\n",
    "total = 0\n",
    "for i in range(len(scores)): # i = 0 ~ 9\n",
    "    total += scores[i]\n",
    "\n",
    "for s in scores:\n",
    "    total += s\n",
    "    print(s)"
   ]
  },
  {
   "cell_type": "markdown",
   "metadata": {},
   "source": [
    "> Q6\n",
    "``` py\n",
    "    리스트 중에서 홀수에만 2를 곱하여 저장하는 다음 코드가 있다.\n",
    "\n",
    "    numbers = [1, 2, 3, 4, 5]\n",
    "    result = []\n",
    "    for n in numbers:\n",
    "        if n % 2 == 1:\n",
    "            result.append(n*2)\n",
    "    위 코드를 리스트 내포(list comprehension)를 사용하여 표현해 보자.\n",
    "```"
   ]
  },
  {
   "cell_type": "code",
   "execution_count": 10,
   "metadata": {},
   "outputs": [
    {
     "name": "stdout",
     "output_type": "stream",
     "text": [
      "[2, 6, 10]\n",
      "[2, 6, 10]\n"
     ]
    }
   ],
   "source": [
    "numbers = [1, 2, 3, 4, 5]\n",
    "result = []\n",
    "for n in numbers:\n",
    "    if n % 2 == 1:\n",
    "        result.append(n*2)\n",
    "print(\"result=\", result)\n",
    "\n",
    "new_result = [n*2 for n in numbers if n % 2 == 1]\n",
    "print(\"new_result=\", new_result)"
   ]
  }
 ],
 "metadata": {
  "interpreter": {
   "hash": "4aa7a001941c8b447200068b1d71a3924cf04f02fe096f0aa27a7230a4a7f943"
  },
  "kernelspec": {
   "display_name": "Python 3.10.1 64-bit",
   "language": "python",
   "name": "python3"
  },
  "language_info": {
   "codemirror_mode": {
    "name": "ipython",
    "version": 3
   },
   "file_extension": ".py",
   "mimetype": "text/x-python",
   "name": "python",
   "nbconvert_exporter": "python",
   "pygments_lexer": "ipython3",
   "version": "3.10.1"
  },
  "orig_nbformat": 4
 },
 "nbformat": 4,
 "nbformat_minor": 2
}
